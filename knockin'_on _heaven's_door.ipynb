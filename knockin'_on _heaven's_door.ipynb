{
  "nbformat": 4,
  "nbformat_minor": 0,
  "metadata": {
    "colab": {
      "provenance": [],
      "include_colab_link": true
    },
    "kernelspec": {
      "name": "python3",
      "display_name": "Python 3"
    },
    "language_info": {
      "name": "python"
    }
  },
  "cells": [
    {
      "cell_type": "markdown",
      "metadata": {
        "id": "view-in-github",
        "colab_type": "text"
      },
      "source": [
        "<a href=\"https://colab.research.google.com/github/rayanchianelli/knocking-on-the-heavens-s-door/blob/main/knockin'_on%20_heaven's_door.ipynb\" target=\"_parent\"><img src=\"https://colab.research.google.com/assets/colab-badge.svg\" alt=\"Open In Colab\"/></a>"
      ]
    },
    {
      "cell_type": "markdown",
      "source": [
        "Heaven's Door\n",
        "\n",
        "Upon reaching heaven, users receive a tip from Saint Peter and need to guess the password to enter paradise.\n",
        "\n"
      ],
      "metadata": {
        "id": "9aavqlDVHHl1"
      }
    },
    {
      "cell_type": "code",
      "source": [
        "import random\n",
        "import time\n",
        "\n",
        "def play():\n",
        "    print(\"\"\"\n",
        "    ***************************\n",
        "    * * *  HEAVEN'S DOOR  * * * \n",
        "    ***************************\n",
        "\n",
        "    St. Peter:\n",
        "    \n",
        "    - My dear, you died. Now, to enter the holy heaven you must know the password.\n",
        "    As I know, you did not live the most righteous life, so I will help you with a hint. \n",
        "    \n",
        "    The rest is on you.\n",
        "    \"\"\")\n",
        "\n",
        "    st_peter_list = ('Mama', 'take', 'this', 'badge', 'off', 'of', 'me', 'can', 'use', 'it', 'anymore','getting', 'dark', 'too', 'dark', 'to', 'see', 'feel','heaven', 'door', 'put','my', 'guns','the', 'ground','shoot', 'them', 'anymore', 'That', 'long' ,'black', 'cloud','coming', 'down')\n",
        "    x = random.randint(0,34)\n",
        "    print(\"Your hint is\",st_peter_list[x]+'.')\n",
        "    time.sleep(1)\n",
        "    result = input(\"What is the password? \")\n",
        "\n",
        "    if result == st_peter_list[x]:\n",
        "      print('Son of Belial!The eternal fire waits you!!!')\n",
        "    elif result[0].lower() == st_peter_list[x][0].lower():\n",
        "      print('Hallelujah, my dear! You are very welcome!')\n",
        "    else:\n",
        "      print(\"You will burn!!\")\n",
        "\n",
        "    contador = 0\n",
        "    while contador <1:   \n",
        "      if result[0].lower() == st_peter_list[x][0].lower():\n",
        "       print()\n",
        "       break\n",
        "      else:\n",
        "        print(\"\\nDo you want to try again?\") \n",
        "        contador += 1\n",
        "\n",
        "    contador2 = 0\n",
        "    while contador2 < 3:\n",
        "        resultado2 = input('Y/N?')\n",
        "        if resultado2.lower() == 'y':\n",
        "            play()\n",
        "        elif resultado2.lower() == 'n':\n",
        "            print('See you next lifetime!')\n",
        "            break\n",
        "        else:\n",
        "            print(\"Invalid option. Type 'Y' to play again or 'N' to exit.\")\n",
        "        contador2 += 1\n",
        "\n"
      ],
      "metadata": {
        "id": "aGRpHwUbV4U0"
      },
      "execution_count": 7,
      "outputs": []
    },
    {
      "cell_type": "code",
      "source": [
        "play()"
      ],
      "metadata": {
        "colab": {
          "base_uri": "https://localhost:8080/"
        },
        "id": "W4gY-bykCd2r",
        "outputId": "e8142dca-da28-4647-a9e6-ade914e7f009"
      },
      "execution_count": 8,
      "outputs": [
        {
          "output_type": "stream",
          "name": "stdout",
          "text": [
            "\n",
            "    ***************************\n",
            "    * * *  HEAVEN'S DOOR  * * * \n",
            "    ***************************\n",
            "\n",
            "    St. Peter:\n",
            "    \n",
            "    - My dear, you died. Now, to enter the holy heaven you must know the password.\n",
            "    As I know, you did not live the most righteous life, so I will help you with a hint. \n",
            "    \n",
            "    The rest is on you.\n",
            "    \n",
            "Your hint is this.\n",
            "What is the password? todo\n",
            "Hallelujah, my dear! You are very welcome!\n",
            "\n",
            "Y/N?N\n",
            "See you next lifetime!\n"
          ]
        }
      ]
    }
  ]
}