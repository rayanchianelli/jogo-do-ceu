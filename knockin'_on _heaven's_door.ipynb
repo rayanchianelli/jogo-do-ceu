{
  "nbformat": 4,
  "nbformat_minor": 0,
  "metadata": {
    "colab": {
      "provenance": [],
      "include_colab_link": true
    },
    "kernelspec": {
      "name": "python3",
      "display_name": "Python 3"
    },
    "language_info": {
      "name": "python"
    }
  },
  "cells": [
    {
      "cell_type": "markdown",
      "metadata": {
        "id": "view-in-github",
        "colab_type": "text"
      },
      "source": [
        "<a href=\"https://colab.research.google.com/github/rayanchianelli/knocking-on-the-heavens-s-door/blob/main/knockin'_on%20_heaven's_door.ipynb\" target=\"_parent\"><img src=\"https://colab.research.google.com/assets/colab-badge.svg\" alt=\"Open In Colab\"/></a>"
      ]
    },
    {
      "cell_type": "markdown",
      "source": [
        "Heaven's Door\n",
        "\n",
        "Upon reaching heaven, users receive a tip from Saint Peter and need to guess the password to enter paradise.\n",
        "\n"
      ],
      "metadata": {
        "id": "9aavqlDVHHl1"
      }
    },
    {
      "cell_type": "code",
      "source": [
        "def play():\n",
        "    print(\"\"\"\n",
        "    ***************************\n",
        "    * * *  HEAVEN'S DOOR  * * * \n",
        "    ***************************\n",
        "\n",
        "    St. Peter:\n",
        "    \n",
        "    - My dear, you died. Now, to enter the holy heaven you must know the password.\n",
        "    As I know, you did not live the most righteous life, so I will help you with a hint. \n",
        "    \n",
        "    The rest is on you.\n",
        "    \"\"\")\n",
        "\n",
        "    st_peter_list = ('Mama', 'take', 'this', 'badge', 'off', 'of', 'me', 'can', 'use', 'it', 'anymore','getting', 'dark', 'too', 'dark', 'to', 'see', 'feel','heaven', 'door', 'put','my', 'guns','the', 'ground','shoot', 'them', 'anymore', 'That', 'long' ,'black', 'cloud','coming', 'down')\n",
        "    x = random.randint(0,34)\n",
        "    print(\"Your hint is\",st_peter_list[x]+'.')\n",
        "    time.sleep(1)\n",
        "    result = input(\"What is the password? \")\n",
        "\n",
        "    if result == st_peter_list[x]:\n",
        "      print('Son of Belial!The eternal fire waits you!!!')\n",
        "    elif result[0].lower() == st_peter_list[x][0].lower():\n",
        "      print('Hallelujah, my dear! You are very welcome!')\n",
        "    else:\n",
        "      print(\"You will burn!!\")\n",
        "\n",
        "    contador = 0\n",
        "    while contador <1:   \n",
        "      if result[0].lower() == st_peter_list[x][0].lower():\n",
        "       print()\n",
        "       break\n",
        "      else:\n",
        "        print(\"\\nDo you want to try again?\") \n",
        "        contador += 1\n",
        "\n",
        "    contador2 = 0\n",
        "    while contador2 < 3:\n",
        "        resultado2 = input('Y/N?')\n",
        "        if resultado2.lower() == 'y':\n",
        "            play()\n",
        "        elif resultado2.lower() == 'n':\n",
        "            print('See you next lifetime!')\n",
        "            break\n",
        "        else:\n",
        "            print(\"Invalid option. Type 'Y' to play again or 'N' to exit.\")\n",
        "        contador2 += 1\n",
        "\n"
      ],
      "metadata": {
        "id": "aGRpHwUbV4U0"
      },
      "execution_count": 21,
      "outputs": []
    },
    {
      "cell_type": "code",
      "source": [
        "play()"
      ],
      "metadata": {
        "colab": {
          "base_uri": "https://localhost:8080/",
          "height": 1000
        },
        "id": "W4gY-bykCd2r",
        "outputId": "f61a9b51-852b-42ad-bb22-6d03b1b84fa0"
      },
      "execution_count": 22,
      "outputs": [
        {
          "output_type": "stream",
          "name": "stdout",
          "text": [
            "\n",
            "    ***************************\n",
            "    * * *  HEAVEN'S DOOR  * * * \n",
            "    ***************************\n",
            "\n",
            "    St. Peter:\n",
            "    \n",
            "    - My dear, you died. Now, to enter the holy heaven you must know the password.\n",
            "    As I know, you did not live the most righteous life, so I will help you with a hint. \n",
            "    \n",
            "    The rest is on you.\n",
            "    \n",
            "Your hint is this.\n",
            "What is the password? gato\n",
            "You will burn!!\n",
            "\n",
            "Do you want to try again?\n",
            "Y/N?y\n",
            "\n",
            "    ***************************\n",
            "    * * *  HEAVEN'S DOOR  * * * \n",
            "    ***************************\n",
            "\n",
            "    St. Peter:\n",
            "    \n",
            "    - My dear, you died. Now, to enter the holy heaven you must know the password.\n",
            "    As I know, you did not live the most righteous life, so I will help you with a hint. \n",
            "    \n",
            "    The rest is on you.\n",
            "    \n",
            "Your hint is them.\n",
            "What is the password? t\n",
            "Hallelujah, my dear! You are very welcome!\n",
            "\n",
            "Y/N?y\n",
            "\n",
            "    ***************************\n",
            "    * * *  HEAVEN'S DOOR  * * * \n",
            "    ***************************\n",
            "\n",
            "    St. Peter:\n",
            "    \n",
            "    - My dear, you died. Now, to enter the holy heaven you must know the password.\n",
            "    As I know, you did not live the most righteous life, so I will help you with a hint. \n",
            "    \n",
            "    The rest is on you.\n",
            "    \n",
            "Your hint is me.\n",
            "What is the password? husk\n",
            "You will burn!!\n",
            "\n",
            "Do you want to try again?\n",
            "Y/N?y\n",
            "\n",
            "    ***************************\n",
            "    * * *  HEAVEN'S DOOR  * * * \n",
            "    ***************************\n",
            "\n",
            "    St. Peter:\n",
            "    \n",
            "    - My dear, you died. Now, to enter the holy heaven you must know the password.\n",
            "    As I know, you did not live the most righteous life, so I will help you with a hint. \n",
            "    \n",
            "    The rest is on you.\n",
            "    \n",
            "Your hint is the.\n",
            "What is the password? uik\n",
            "You will burn!!\n",
            "\n",
            "Do you want to try again?\n",
            "Y/N?y\n",
            "\n",
            "    ***************************\n",
            "    * * *  HEAVEN'S DOOR  * * * \n",
            "    ***************************\n",
            "\n",
            "    St. Peter:\n",
            "    \n",
            "    - My dear, you died. Now, to enter the holy heaven you must know the password.\n",
            "    As I know, you did not live the most righteous life, so I will help you with a hint. \n",
            "    \n",
            "    The rest is on you.\n",
            "    \n",
            "Your hint is them.\n",
            "What is the password? oijdijdso\n",
            "You will burn!!\n",
            "\n",
            "Do you want to try again?\n",
            "Y/N?n\n",
            "See you next lifetime!\n",
            "Y/N?n\n",
            "See you next lifetime!\n",
            "Y/N?n\n",
            "See you next lifetime!\n"
          ]
        },
        {
          "output_type": "error",
          "ename": "KeyboardInterrupt",
          "evalue": "ignored",
          "traceback": [
            "\u001b[0;31m---------------------------------------------------------------------------\u001b[0m",
            "\u001b[0;31mKeyboardInterrupt\u001b[0m                         Traceback (most recent call last)",
            "\u001b[0;32m<ipython-input-22-425fd712de3c>\u001b[0m in \u001b[0;36m<cell line: 1>\u001b[0;34m()\u001b[0m\n\u001b[0;32m----> 1\u001b[0;31m \u001b[0mplay\u001b[0m\u001b[0;34m(\u001b[0m\u001b[0;34m)\u001b[0m\u001b[0;34m\u001b[0m\u001b[0;34m\u001b[0m\u001b[0m\n\u001b[0m",
            "\u001b[0;32m<ipython-input-21-5f4f117ce843>\u001b[0m in \u001b[0;36mplay\u001b[0;34m()\u001b[0m\n\u001b[1;32m     39\u001b[0m         \u001b[0mresultado2\u001b[0m \u001b[0;34m=\u001b[0m \u001b[0minput\u001b[0m\u001b[0;34m(\u001b[0m\u001b[0;34m'Y/N?'\u001b[0m\u001b[0;34m)\u001b[0m\u001b[0;34m\u001b[0m\u001b[0;34m\u001b[0m\u001b[0m\n\u001b[1;32m     40\u001b[0m         \u001b[0;32mif\u001b[0m \u001b[0mresultado2\u001b[0m\u001b[0;34m.\u001b[0m\u001b[0mlower\u001b[0m\u001b[0;34m(\u001b[0m\u001b[0;34m)\u001b[0m \u001b[0;34m==\u001b[0m \u001b[0;34m'y'\u001b[0m\u001b[0;34m:\u001b[0m\u001b[0;34m\u001b[0m\u001b[0;34m\u001b[0m\u001b[0m\n\u001b[0;32m---> 41\u001b[0;31m             \u001b[0mplay\u001b[0m\u001b[0;34m(\u001b[0m\u001b[0;34m)\u001b[0m\u001b[0;34m\u001b[0m\u001b[0;34m\u001b[0m\u001b[0m\n\u001b[0m\u001b[1;32m     42\u001b[0m         \u001b[0;32melif\u001b[0m \u001b[0mresultado2\u001b[0m\u001b[0;34m.\u001b[0m\u001b[0mlower\u001b[0m\u001b[0;34m(\u001b[0m\u001b[0;34m)\u001b[0m \u001b[0;34m==\u001b[0m \u001b[0;34m'n'\u001b[0m\u001b[0;34m:\u001b[0m\u001b[0;34m\u001b[0m\u001b[0;34m\u001b[0m\u001b[0m\n\u001b[1;32m     43\u001b[0m             \u001b[0mprint\u001b[0m\u001b[0;34m(\u001b[0m\u001b[0;34m'See you next lifetime!'\u001b[0m\u001b[0;34m)\u001b[0m\u001b[0;34m\u001b[0m\u001b[0;34m\u001b[0m\u001b[0m\n",
            "\u001b[0;32m<ipython-input-21-5f4f117ce843>\u001b[0m in \u001b[0;36mplay\u001b[0;34m()\u001b[0m\n\u001b[1;32m     37\u001b[0m     \u001b[0mcontador2\u001b[0m \u001b[0;34m=\u001b[0m \u001b[0;36m0\u001b[0m\u001b[0;34m\u001b[0m\u001b[0;34m\u001b[0m\u001b[0m\n\u001b[1;32m     38\u001b[0m     \u001b[0;32mwhile\u001b[0m \u001b[0mcontador2\u001b[0m \u001b[0;34m<\u001b[0m \u001b[0;36m3\u001b[0m\u001b[0;34m:\u001b[0m\u001b[0;34m\u001b[0m\u001b[0;34m\u001b[0m\u001b[0m\n\u001b[0;32m---> 39\u001b[0;31m         \u001b[0mresultado2\u001b[0m \u001b[0;34m=\u001b[0m \u001b[0minput\u001b[0m\u001b[0;34m(\u001b[0m\u001b[0;34m'Y/N?'\u001b[0m\u001b[0;34m)\u001b[0m\u001b[0;34m\u001b[0m\u001b[0;34m\u001b[0m\u001b[0m\n\u001b[0m\u001b[1;32m     40\u001b[0m         \u001b[0;32mif\u001b[0m \u001b[0mresultado2\u001b[0m\u001b[0;34m.\u001b[0m\u001b[0mlower\u001b[0m\u001b[0;34m(\u001b[0m\u001b[0;34m)\u001b[0m \u001b[0;34m==\u001b[0m \u001b[0;34m'y'\u001b[0m\u001b[0;34m:\u001b[0m\u001b[0;34m\u001b[0m\u001b[0;34m\u001b[0m\u001b[0m\n\u001b[1;32m     41\u001b[0m             \u001b[0mplay\u001b[0m\u001b[0;34m(\u001b[0m\u001b[0;34m)\u001b[0m\u001b[0;34m\u001b[0m\u001b[0;34m\u001b[0m\u001b[0m\n",
            "\u001b[0;32m/usr/local/lib/python3.10/dist-packages/ipykernel/kernelbase.py\u001b[0m in \u001b[0;36mraw_input\u001b[0;34m(self, prompt)\u001b[0m\n\u001b[1;32m    849\u001b[0m                 \u001b[0;34m\"raw_input was called, but this frontend does not support input requests.\"\u001b[0m\u001b[0;34m\u001b[0m\u001b[0;34m\u001b[0m\u001b[0m\n\u001b[1;32m    850\u001b[0m             )\n\u001b[0;32m--> 851\u001b[0;31m         return self._input_request(str(prompt),\n\u001b[0m\u001b[1;32m    852\u001b[0m             \u001b[0mself\u001b[0m\u001b[0;34m.\u001b[0m\u001b[0m_parent_ident\u001b[0m\u001b[0;34m,\u001b[0m\u001b[0;34m\u001b[0m\u001b[0;34m\u001b[0m\u001b[0m\n\u001b[1;32m    853\u001b[0m             \u001b[0mself\u001b[0m\u001b[0;34m.\u001b[0m\u001b[0m_parent_header\u001b[0m\u001b[0;34m,\u001b[0m\u001b[0;34m\u001b[0m\u001b[0;34m\u001b[0m\u001b[0m\n",
            "\u001b[0;32m/usr/local/lib/python3.10/dist-packages/ipykernel/kernelbase.py\u001b[0m in \u001b[0;36m_input_request\u001b[0;34m(self, prompt, ident, parent, password)\u001b[0m\n\u001b[1;32m    893\u001b[0m             \u001b[0;32mexcept\u001b[0m \u001b[0mKeyboardInterrupt\u001b[0m\u001b[0;34m:\u001b[0m\u001b[0;34m\u001b[0m\u001b[0;34m\u001b[0m\u001b[0m\n\u001b[1;32m    894\u001b[0m                 \u001b[0;31m# re-raise KeyboardInterrupt, to truncate traceback\u001b[0m\u001b[0;34m\u001b[0m\u001b[0;34m\u001b[0m\u001b[0m\n\u001b[0;32m--> 895\u001b[0;31m                 \u001b[0;32mraise\u001b[0m \u001b[0mKeyboardInterrupt\u001b[0m\u001b[0;34m(\u001b[0m\u001b[0;34m\"Interrupted by user\"\u001b[0m\u001b[0;34m)\u001b[0m \u001b[0;32mfrom\u001b[0m \u001b[0;32mNone\u001b[0m\u001b[0;34m\u001b[0m\u001b[0;34m\u001b[0m\u001b[0m\n\u001b[0m\u001b[1;32m    896\u001b[0m             \u001b[0;32mexcept\u001b[0m \u001b[0mException\u001b[0m \u001b[0;32mas\u001b[0m \u001b[0me\u001b[0m\u001b[0;34m:\u001b[0m\u001b[0;34m\u001b[0m\u001b[0;34m\u001b[0m\u001b[0m\n\u001b[1;32m    897\u001b[0m                 \u001b[0mself\u001b[0m\u001b[0;34m.\u001b[0m\u001b[0mlog\u001b[0m\u001b[0;34m.\u001b[0m\u001b[0mwarning\u001b[0m\u001b[0;34m(\u001b[0m\u001b[0;34m\"Invalid Message:\"\u001b[0m\u001b[0;34m,\u001b[0m \u001b[0mexc_info\u001b[0m\u001b[0;34m=\u001b[0m\u001b[0;32mTrue\u001b[0m\u001b[0;34m)\u001b[0m\u001b[0;34m\u001b[0m\u001b[0;34m\u001b[0m\u001b[0m\n",
            "\u001b[0;31mKeyboardInterrupt\u001b[0m: Interrupted by user"
          ]
        }
      ]
    }
  ]
}