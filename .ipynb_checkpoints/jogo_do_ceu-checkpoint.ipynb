{
 "cells": [
  {
   "cell_type": "markdown",
   "metadata": {
    "id": "9aavqlDVHHl1"
   },
   "source": [
    "Porta do céu\n",
    "\n",
    "Ao chegar ao céu os usuarios recebem uma dica de São Pedro e precisam adivinhar a senha para entrar no paraíso.\n",
    "\n"
   ]
  },
  {
   "cell_type": "code",
   "execution_count": null,
   "metadata": {
    "id": "XdFtwEOrTDuM"
   },
   "outputs": [],
   "source": [
    " #Importando o módulo de expressões regulares\n",
    "import re\n",
    "#Criando uma tupla com as possíveis senhas\n",
    "lista_senhas_sao_pedro = ('Carro', 'tinha', 'medo', 'tal', 'Maria', 'Santo','Cristo','Era', 'todos', 'diziam', 'quando','perdeu','Deixou', 'distante', 'longe', 'todo', 'marasmo','fazenda', 'sentir', 'sangue', 'odio', 'Jesus', 'criança', 'pensava' ,'ser', 'bandido' , 'Ainda', 'mais','tiro', 'soldado', 'pai', 'morreu', 'terror' , 'sertania' , 'onde', 'morava', 'escola', 'professor', 'aprendeu', 'igreja', 'roubar', 'dinheiro','velhinhas', 'colocavam', 'caixinha', 'altar','diferente' , 'mar' , 'telefone', 'viajar', 'sozinho')\n",
    "resultado1 = int(input('Por favor escolha um numero de 1 a 50: '))#Pedindo para o usuário escolher um número de 1 a 50\n",
    "while resultado1 >= 50: #Verificando se o número escolhido está dentro do intervalo permitido\n",
    "   resultado1 = int(input(\"Estupido! O numero tem que ser de 0 a 50: \"))\n",
    "print(\"A sua dica pra entrar no céu é\",lista_senhas_sao_pedro[resultado1]+'.') #Imprimindo a dica correspondente à senha escolhida pelo usuário\n",
    "\n",
    "resultado2 = (str(input(\"Qual a senha pra entrar no céu? \"))) #Pedindo para o usuário inserir a senha escolhida\n",
    "if resultado2 == lista_senhas_sao_pedro[resultado1]: #Verificando se a senha inserida pelo usuário está correta e imprimindo a mensagem correspondente\n",
    "    print('Que a paz dos anjos esteja convosco!')\n",
    "else:\n",
    "    (print(\"Queima no marmore, tinhoso!\"))"
   ]
  },
  {
   "cell_type": "code",
   "execution_count": null,
   "metadata": {
    "id": "QPor-6cndOvv"
   },
   "outputs": [],
   "source": []
  },
  {
   "cell_type": "code",
   "execution_count": null,
   "metadata": {
    "colab": {
     "base_uri": "https://localhost:8080/",
     "height": 36
    },
    "id": "1-7X3eN9HI3k",
    "outputId": "0bd32ce9-d5ff-4dcb-e5ae-f5f2b5aa6304"
   },
   "outputs": [
    {
     "data": {
      "application/vnd.google.colaboratory.intrinsic+json": {
       "type": "string"
      },
      "text/plain": [
       "'sozinho'"
      ]
     },
     "execution_count": 23,
     "metadata": {},
     "output_type": "execute_result"
    }
   ],
   "source": [
    "#regras\n",
    "# a primeira letra deve ser igual\n",
    "# a segunda letra deve ser igual\n",
    "# a terceira letra deve ser igual\n",
    "# pedir ao usuario para escolher um numero de 0 a 50\n",
    "#fazer com que o numero escolhido busque a palavra correspondente na lista e aplique uma das regras\n",
    "#conferir se as regras se aplicam a ambas palavra\n",
    "# print se entra ou nao no ceu"
   ]
  },
  {
   "cell_type": "code",
   "execution_count": null,
   "metadata": {
    "id": "AfErkEtgQaOj"
   },
   "outputs": [],
   "source": [
    "#Definindo a lista de senhas de São Pedro\n",
    "lista_senhas_sao_pedro = ('Carro', 'tinha', 'medo', 'tal', 'Maria', 'Santo','Cristo','Era', 'todos', 'diziam', 'quando','perdeu','Deixou', 'distante', 'longe', 'todo', 'marasmo','fazenda', 'sentir', 'sangue', 'odio', 'Jesus', 'criança', 'pensava' ,'ser', 'bandido' , 'Ainda', 'mais','tiro', 'soldado', 'pai', 'morreu', 'terror' , 'sertania' , 'onde', 'morava', 'escola', 'professor', 'aprendeu', 'igreja', 'roubar', 'dinheiro','velhinhas', 'colocavam', 'caixinha', 'altar','diferente' , 'mar' , 'telefone', 'viajar', 'sozinho')\n"
   ]
  },
  {
   "cell_type": "code",
   "execution_count": null,
   "metadata": {
    "colab": {
     "base_uri": "https://localhost:8080/",
     "height": 53
    },
    "id": "XnCFY-0JQgOj",
    "outputId": "a645429e-916d-4ff7-e5c4-e25625cb2629"
   },
   "outputs": [
    {
     "name": "stdout",
     "output_type": "stream",
     "text": [
      "Please enter a number from 0 to 50: 41\n"
     ]
    },
    {
     "data": {
      "application/vnd.google.colaboratory.intrinsic+json": {
       "type": "string"
      },
      "text/plain": [
       "'41'"
      ]
     },
     "execution_count": 27,
     "metadata": {},
     "output_type": "execute_result"
    }
   ],
   "source": [
    "\n",
    "input('Please enter a number from 0 to 50: ')"
   ]
  },
  {
   "cell_type": "code",
   "execution_count": null,
   "metadata": {
    "colab": {
     "base_uri": "https://localhost:8080/"
    },
    "id": "gZSeefqaQksT",
    "outputId": "34bebcd3-d7a8-4023-ad43-0757349ee680"
   },
   "outputs": [
    {
     "name": "stdout",
     "output_type": "stream",
     "text": [
      "Please enter a number from 0 to 50: 41\n"
     ]
    }
   ],
   "source": [
    "#Verificando se o número escolhido é válido\n",
    "resultado1 = int(input('Please enter a number from 0 to 50: '))"
   ]
  },
  {
   "cell_type": "code",
   "execution_count": null,
   "metadata": {
    "colab": {
     "base_uri": "https://localhost:8080/",
     "height": 36
    },
    "id": "OgPPiNS2Q2C0",
    "outputId": "7ca1da50-2693-43db-b61c-600dfa0b4c43"
   },
   "outputs": [
    {
     "data": {
      "application/vnd.google.colaboratory.intrinsic+json": {
       "type": "string"
      },
      "text/plain": [
       "'dinheiro'"
      ]
     },
     "execution_count": 31,
     "metadata": {},
     "output_type": "execute_result"
    }
   ],
   "source": [
    "lista_senhas_sao_pedro[resultado1]"
   ]
  }
 ],
 "metadata": {
  "colab": {
   "provenance": []
  },
  "kernelspec": {
   "display_name": "Python 3 (ipykernel)",
   "language": "python",
   "name": "python3"
  },
  "language_info": {
   "codemirror_mode": {
    "name": "ipython",
    "version": 3
   },
   "file_extension": ".py",
   "mimetype": "text/x-python",
   "name": "python",
   "nbconvert_exporter": "python",
   "pygments_lexer": "ipython3",
   "version": "3.9.13"
  },
  "varInspector": {
   "cols": {
    "lenName": 16,
    "lenType": 16,
    "lenVar": 40
   },
   "kernels_config": {
    "python": {
     "delete_cmd_postfix": "",
     "delete_cmd_prefix": "del ",
     "library": "var_list.py",
     "varRefreshCmd": "print(var_dic_list())"
    },
    "r": {
     "delete_cmd_postfix": ") ",
     "delete_cmd_prefix": "rm(",
     "library": "var_list.r",
     "varRefreshCmd": "cat(var_dic_list()) "
    }
   },
   "types_to_exclude": [
    "module",
    "function",
    "builtin_function_or_method",
    "instance",
    "_Feature"
   ],
   "window_display": false
  }
 },
 "nbformat": 4,
 "nbformat_minor": 1
}
