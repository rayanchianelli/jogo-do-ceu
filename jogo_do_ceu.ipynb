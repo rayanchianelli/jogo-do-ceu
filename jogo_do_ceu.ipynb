{
  "nbformat": 4,
  "nbformat_minor": 0,
  "metadata": {
    "colab": {
      "provenance": []
    },
    "kernelspec": {
      "name": "python3",
      "display_name": "Python 3"
    },
    "language_info": {
      "name": "python"
    }
  },
  "cells": [
    {
      "cell_type": "markdown",
      "source": [
        "Porta do céu\n",
        "\n",
        "Ao chegar ao céu os usuarios recebem uma dica de São Pedro e precisam adivinhar a senha para entrar no paraíso.\n",
        "\n"
      ],
      "metadata": {
        "id": "9aavqlDVHHl1"
      }
    },
    {
      "cell_type": "code",
      "source": [
        "import re \n",
        "\n",
        "lista_senhas_sao_pedro = ('Carro', 'tinha', 'medo', 'tal', 'Maria', 'Santo','Cristo','Era', 'todos', 'diziam', 'quando','perdeu','Deixou', 'distante', 'longe', 'todo', 'marasmo','fazenda', 'sentir', 'sangue', 'odio', 'Jesus', 'criança', 'pensava' ,'ser', 'bandido' , 'Ainda', 'mais','tiro', 'soldado', 'pai', 'morreu', 'terror' , 'sertania' , 'onde', 'morava', 'escola', 'professor', 'aprendeu', 'igreja', 'roubar', 'dinheiro','velhinhas', 'colocavam', 'caixinha', 'altar','diferente' , 'mar' , 'telefone', 'viajar', 'sozinho')\n",
        "resultado1 = int(input('Por favor escolha um numero de 1 a 50: '))\n",
        "while resultado1 >= 50:\n",
        "   resultado1 = int(input(\"Estupido! O numero tem que ser de 0 a 50: \"))\n",
        "print(\"A sua dica pra entrar no céu é\",lista_senhas_sao_pedro[resultado1]+'.')\n",
        "\n",
        "resultado2 = (str(input(\"Qual a senha pra entrar no céu? \")))\n",
        "if resultado2 == lista_senhas_sao_pedro[resultado1]:\n",
        "    print('Que a paz dos anjos esteja convosco!')\n",
        "else:\n",
        "    (print(\"Queima no marmore, tinhoso!\"))"
      ],
      "metadata": {
        "id": "XdFtwEOrTDuM"
      },
      "execution_count": null,
      "outputs": []
    },
    {
      "cell_type": "code",
      "source": [],
      "metadata": {
        "id": "QPor-6cndOvv"
      },
      "execution_count": null,
      "outputs": []
    },
    {
      "cell_type": "code",
      "source": [
        "#regras\n",
        "# a primeira letra deve ser igual\n",
        "# a segunda letra deve ser igual\n",
        "# a terceira letra deve ser igual\n",
        "# pedir ao usuario para escolher um numero de 0 a 50\n",
        "#fazer com que o numero escolhido busque a palavra correspondente na lista e aplique uma das regras\n",
        "#conferir se as regras se aplicam a ambas palavra\n",
        "# print se entra ou nao no ceu"
      ],
      "metadata": {
        "colab": {
          "base_uri": "https://localhost:8080/",
          "height": 36
        },
        "id": "1-7X3eN9HI3k",
        "outputId": "0bd32ce9-d5ff-4dcb-e5ae-f5f2b5aa6304"
      },
      "execution_count": null,
      "outputs": [
        {
          "output_type": "execute_result",
          "data": {
            "text/plain": [
              "'sozinho'"
            ],
            "application/vnd.google.colaboratory.intrinsic+json": {
              "type": "string"
            }
          },
          "metadata": {},
          "execution_count": 23
        }
      ]
    },
    {
      "cell_type": "code",
      "source": [
        "lista_senhas_sao_pedro = ('Carro', 'tinha', 'medo', 'tal', 'Maria', 'Santo','Cristo','Era', 'todos', 'diziam', 'quando','perdeu','Deixou', 'distante', 'longe', 'todo', 'marasmo','fazenda', 'sentir', 'sangue', 'odio', 'Jesus', 'criança', 'pensava' ,'ser', 'bandido' , 'Ainda', 'mais','tiro', 'soldado', 'pai', 'morreu', 'terror' , 'sertania' , 'onde', 'morava', 'escola', 'professor', 'aprendeu', 'igreja', 'roubar', 'dinheiro','velhinhas', 'colocavam', 'caixinha', 'altar','diferente' , 'mar' , 'telefone', 'viajar', 'sozinho')\n"
      ],
      "metadata": {
        "id": "AfErkEtgQaOj"
      },
      "execution_count": null,
      "outputs": []
    },
    {
      "cell_type": "code",
      "source": [
        "\n",
        "input('Please enter a number from 0 to 50: ')"
      ],
      "metadata": {
        "colab": {
          "base_uri": "https://localhost:8080/",
          "height": 53
        },
        "id": "XnCFY-0JQgOj",
        "outputId": "a645429e-916d-4ff7-e5c4-e25625cb2629"
      },
      "execution_count": null,
      "outputs": [
        {
          "name": "stdout",
          "output_type": "stream",
          "text": [
            "Please enter a number from 0 to 50: 41\n"
          ]
        },
        {
          "output_type": "execute_result",
          "data": {
            "text/plain": [
              "'41'"
            ],
            "application/vnd.google.colaboratory.intrinsic+json": {
              "type": "string"
            }
          },
          "metadata": {},
          "execution_count": 27
        }
      ]
    },
    {
      "cell_type": "code",
      "source": [
        "resultado1 = int(input('Please enter a number from 0 to 50: '))"
      ],
      "metadata": {
        "colab": {
          "base_uri": "https://localhost:8080/"
        },
        "id": "gZSeefqaQksT",
        "outputId": "34bebcd3-d7a8-4023-ad43-0757349ee680"
      },
      "execution_count": null,
      "outputs": [
        {
          "name": "stdout",
          "output_type": "stream",
          "text": [
            "Please enter a number from 0 to 50: 41\n"
          ]
        }
      ]
    },
    {
      "cell_type": "code",
      "source": [
        "lista_senhas_sao_pedro[resultado1]"
      ],
      "metadata": {
        "colab": {
          "base_uri": "https://localhost:8080/",
          "height": 36
        },
        "id": "OgPPiNS2Q2C0",
        "outputId": "7ca1da50-2693-43db-b61c-600dfa0b4c43"
      },
      "execution_count": null,
      "outputs": [
        {
          "output_type": "execute_result",
          "data": {
            "text/plain": [
              "'dinheiro'"
            ],
            "application/vnd.google.colaboratory.intrinsic+json": {
              "type": "string"
            }
          },
          "metadata": {},
          "execution_count": 31
        }
      ]
    }
  ]
}