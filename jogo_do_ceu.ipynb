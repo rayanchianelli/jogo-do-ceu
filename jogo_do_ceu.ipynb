{
  "nbformat": 4,
  "nbformat_minor": 0,
  "metadata": {
    "colab": {
      "provenance": [],
      "include_colab_link": true
    },
    "kernelspec": {
      "name": "python3",
      "display_name": "Python 3"
    },
    "language_info": {
      "name": "python"
    }
  },
  "cells": [
    {
      "cell_type": "markdown",
      "metadata": {
        "id": "view-in-github",
        "colab_type": "text"
      },
      "source": [
        "<a href=\"https://colab.research.google.com/github/rayannoyma/jogo-do-ceu/blob/main/jogo_do_ceu.ipynb\" target=\"_parent\"><img src=\"https://colab.research.google.com/assets/colab-badge.svg\" alt=\"Open In Colab\"/></a>"
      ]
    },
    {
      "cell_type": "markdown",
      "source": [
        "Porta do céu\n",
        "\n",
        "Ao chegar ao céu os usuarios recebem uma dica de São Pedro e precisam adivinhar a senha para entrar no paraíso.\n",
        "\n"
      ],
      "metadata": {
        "id": "9aavqlDVHHl1"
      }
    },
    {
      "cell_type": "code",
      "source": [
        "def jogar():\n",
        "    \n",
        "    import random \n",
        "    import re \n",
        "    import time\n",
        "    \n",
        "    print(\"\"\"\n",
        "    ***************************\n",
        "    * ESCRITÓRIO DE SÃO PEDRO *\n",
        "    ***************************\n",
        "\n",
        "    Morresse, viu?! Agora pra entrar no céu tu tem que saber a senha.\n",
        "    Como sei que tu num levou a melhor das vidas, vou te ajudar e te dar uma dica. \n",
        "    \n",
        "    O resto é por tua conta.\n",
        "    \"\"\")\n",
        "\n",
        "    lista_senhas_sao_pedro = ('Carro', 'tinha', 'medo', 'tal', 'Maria', 'Santo','Cristo','Era', 'todos', 'diziam', 'quando','perdeu','Deixou', 'distante', 'longe', 'todo', 'marasmo','fazenda', 'sentir', 'sangue', 'odio', 'Jesus', 'criança', 'pensava' ,'ser', 'bandido' , 'Ainda', 'mais','tiro', 'soldado', 'pai', 'morreu', 'terror' , 'sertania' , 'onde', 'morava', 'escola', 'professor', 'aprendeu', 'igreja', 'roubar', 'dinheiro','velhinhas', 'colocavam', 'caixinha', 'altar','diferente' , 'mar' , 'telefone', 'viajar', 'sozinho')\n",
        "    x = random.randint(0,50)\n",
        "    print(\"A sua dica pra entrar no céu é\",lista_senhas_sao_pedro[x]+'.')\n",
        "    time.sleep(1)\n",
        "    resultado = input(\"Qual a senha pra entrar no céu? \")\n",
        "\n",
        "    if resultado[0].lower() == lista_senhas_sao_pedro[x][0].lower():\n",
        "        print('Ámen, que os anjos te bendigam! Seja bem-vinde!')\n",
        "    elif resultado == lista_senhas_sao_pedro[x]:\n",
        "        print('Prole de Belial! Pode descer que o capiroto te espera!!')\n",
        "    else:\n",
        "        print(\"Vai queimar no mármore!\")\n",
        "    \n",
        "    print(\"\")\n",
        "    resposta = input('Quer tentar novamente? Y/N ')\n",
        "    if resposta.lower() == 'y':\n",
        "        jogar()\n",
        "    else:\n",
        "        print('I think I see you next lifetime!')\n",
        "        return\n",
        "\n",
        "\n"
      ],
      "metadata": {
        "id": "FfGSNYeL6ktK"
      },
      "execution_count": 82,
      "outputs": []
    },
    {
      "cell_type": "code",
      "source": [
        "jogar()"
      ],
      "metadata": {
        "colab": {
          "base_uri": "https://localhost:8080/",
          "height": 727
        },
        "id": "ALpbu3DL7snP",
        "outputId": "048878e0-8b03-4483-ecd9-d7d33f819817"
      },
      "execution_count": 83,
      "outputs": [
        {
          "metadata": {
            "tags": null
          },
          "name": "stdout",
          "output_type": "stream",
          "text": [
            "\n",
            "    ***************************\n",
            "    * ESCRITÓRIO DE SÃO PEDRO *\n",
            "    ***************************\n",
            "\n",
            "    Morresse, viu?! Agora pra entrar no céu tu tem que saber a senha.\n",
            "    Como sei que tu num levou a melhor das vidas, vou te ajudar e te dar uma dica. \n",
            "    \n",
            "    O resto é por tua conta.\n",
            "    \n",
            "A sua dica pra entrar no céu é Maria.\n",
            "Vai queimar no mármore!\n",
            "\n",
            "\n",
            "    ***************************\n",
            "    * ESCRITÓRIO DE SÃO PEDRO *\n",
            "    ***************************\n",
            "\n",
            "    Morresse, viu?! Agora pra entrar no céu tu tem que saber a senha.\n",
            "    Como sei que tu num levou a melhor das vidas, vou te ajudar e te dar uma dica. \n",
            "    \n",
            "    O resto é por tua conta.\n",
            "    \n",
            "A sua dica pra entrar no céu é dinheiro.\n"
          ]
        },
        {
          "output_type": "error",
          "ename": "KeyboardInterrupt",
          "evalue": "ignored",
          "traceback": [
            "\u001b[0;31m---------------------------------------------------------------------------\u001b[0m",
            "\u001b[0;31mKeyboardInterrupt\u001b[0m                         Traceback (most recent call last)",
            "\u001b[0;32m<ipython-input-83-a7631dad4bac>\u001b[0m in \u001b[0;36m<cell line: 1>\u001b[0;34m()\u001b[0m\n\u001b[0;32m----> 1\u001b[0;31m \u001b[0mjogar\u001b[0m\u001b[0;34m(\u001b[0m\u001b[0;34m)\u001b[0m\u001b[0;34m\u001b[0m\u001b[0;34m\u001b[0m\u001b[0m\n\u001b[0m",
            "\u001b[0;32m<ipython-input-82-3dfa37a1d3a2>\u001b[0m in \u001b[0;36mjogar\u001b[0;34m()\u001b[0m\n\u001b[1;32m     32\u001b[0m     \u001b[0mresposta\u001b[0m \u001b[0;34m=\u001b[0m \u001b[0minput\u001b[0m\u001b[0;34m(\u001b[0m\u001b[0;34m'Quer tentar novamente? Y/N '\u001b[0m\u001b[0;34m)\u001b[0m\u001b[0;34m\u001b[0m\u001b[0;34m\u001b[0m\u001b[0m\n\u001b[1;32m     33\u001b[0m     \u001b[0;32mif\u001b[0m \u001b[0mresposta\u001b[0m\u001b[0;34m.\u001b[0m\u001b[0mlower\u001b[0m\u001b[0;34m(\u001b[0m\u001b[0;34m)\u001b[0m \u001b[0;34m==\u001b[0m \u001b[0;34m'y'\u001b[0m\u001b[0;34m:\u001b[0m\u001b[0;34m\u001b[0m\u001b[0;34m\u001b[0m\u001b[0m\n\u001b[0;32m---> 34\u001b[0;31m         \u001b[0mjogar\u001b[0m\u001b[0;34m(\u001b[0m\u001b[0;34m)\u001b[0m\u001b[0;34m\u001b[0m\u001b[0;34m\u001b[0m\u001b[0m\n\u001b[0m\u001b[1;32m     35\u001b[0m     \u001b[0;32melse\u001b[0m\u001b[0;34m:\u001b[0m\u001b[0;34m\u001b[0m\u001b[0;34m\u001b[0m\u001b[0m\n\u001b[1;32m     36\u001b[0m         \u001b[0mprint\u001b[0m\u001b[0;34m(\u001b[0m\u001b[0;34m'I think I see you next lifetime!'\u001b[0m\u001b[0;34m)\u001b[0m\u001b[0;34m\u001b[0m\u001b[0;34m\u001b[0m\u001b[0m\n",
            "\u001b[0;32m<ipython-input-82-3dfa37a1d3a2>\u001b[0m in \u001b[0;36mjogar\u001b[0;34m()\u001b[0m\n\u001b[1;32m     20\u001b[0m     \u001b[0mprint\u001b[0m\u001b[0;34m(\u001b[0m\u001b[0;34m\"A sua dica pra entrar no céu é\"\u001b[0m\u001b[0;34m,\u001b[0m\u001b[0mlista_senhas_sao_pedro\u001b[0m\u001b[0;34m[\u001b[0m\u001b[0mx\u001b[0m\u001b[0;34m]\u001b[0m\u001b[0;34m+\u001b[0m\u001b[0;34m'.'\u001b[0m\u001b[0;34m)\u001b[0m\u001b[0;34m\u001b[0m\u001b[0;34m\u001b[0m\u001b[0m\n\u001b[1;32m     21\u001b[0m     \u001b[0mtime\u001b[0m\u001b[0;34m.\u001b[0m\u001b[0msleep\u001b[0m\u001b[0;34m(\u001b[0m\u001b[0;36m1\u001b[0m\u001b[0;34m)\u001b[0m\u001b[0;34m\u001b[0m\u001b[0;34m\u001b[0m\u001b[0m\n\u001b[0;32m---> 22\u001b[0;31m     \u001b[0mresultado\u001b[0m \u001b[0;34m=\u001b[0m \u001b[0minput\u001b[0m\u001b[0;34m(\u001b[0m\u001b[0;34m\"Qual a senha pra entrar no céu? \"\u001b[0m\u001b[0;34m)\u001b[0m\u001b[0;34m\u001b[0m\u001b[0;34m\u001b[0m\u001b[0m\n\u001b[0m\u001b[1;32m     23\u001b[0m \u001b[0;34m\u001b[0m\u001b[0m\n\u001b[1;32m     24\u001b[0m     \u001b[0;32mif\u001b[0m \u001b[0mresultado\u001b[0m\u001b[0;34m[\u001b[0m\u001b[0;36m0\u001b[0m\u001b[0;34m]\u001b[0m\u001b[0;34m.\u001b[0m\u001b[0mlower\u001b[0m\u001b[0;34m(\u001b[0m\u001b[0;34m)\u001b[0m \u001b[0;34m==\u001b[0m \u001b[0mlista_senhas_sao_pedro\u001b[0m\u001b[0;34m[\u001b[0m\u001b[0mx\u001b[0m\u001b[0;34m]\u001b[0m\u001b[0;34m[\u001b[0m\u001b[0;36m0\u001b[0m\u001b[0;34m]\u001b[0m\u001b[0;34m.\u001b[0m\u001b[0mlower\u001b[0m\u001b[0;34m(\u001b[0m\u001b[0;34m)\u001b[0m\u001b[0;34m:\u001b[0m\u001b[0;34m\u001b[0m\u001b[0;34m\u001b[0m\u001b[0m\n",
            "\u001b[0;32m/usr/local/lib/python3.9/dist-packages/ipykernel/kernelbase.py\u001b[0m in \u001b[0;36mraw_input\u001b[0;34m(self, prompt)\u001b[0m\n\u001b[1;32m    849\u001b[0m                 \u001b[0;34m\"raw_input was called, but this frontend does not support input requests.\"\u001b[0m\u001b[0;34m\u001b[0m\u001b[0;34m\u001b[0m\u001b[0m\n\u001b[1;32m    850\u001b[0m             )\n\u001b[0;32m--> 851\u001b[0;31m         return self._input_request(str(prompt),\n\u001b[0m\u001b[1;32m    852\u001b[0m             \u001b[0mself\u001b[0m\u001b[0;34m.\u001b[0m\u001b[0m_parent_ident\u001b[0m\u001b[0;34m,\u001b[0m\u001b[0;34m\u001b[0m\u001b[0;34m\u001b[0m\u001b[0m\n\u001b[1;32m    853\u001b[0m             \u001b[0mself\u001b[0m\u001b[0;34m.\u001b[0m\u001b[0m_parent_header\u001b[0m\u001b[0;34m,\u001b[0m\u001b[0;34m\u001b[0m\u001b[0;34m\u001b[0m\u001b[0m\n",
            "\u001b[0;32m/usr/local/lib/python3.9/dist-packages/ipykernel/kernelbase.py\u001b[0m in \u001b[0;36m_input_request\u001b[0;34m(self, prompt, ident, parent, password)\u001b[0m\n\u001b[1;32m    893\u001b[0m             \u001b[0;32mexcept\u001b[0m \u001b[0mKeyboardInterrupt\u001b[0m\u001b[0;34m:\u001b[0m\u001b[0;34m\u001b[0m\u001b[0;34m\u001b[0m\u001b[0m\n\u001b[1;32m    894\u001b[0m                 \u001b[0;31m# re-raise KeyboardInterrupt, to truncate traceback\u001b[0m\u001b[0;34m\u001b[0m\u001b[0;34m\u001b[0m\u001b[0m\n\u001b[0;32m--> 895\u001b[0;31m                 \u001b[0;32mraise\u001b[0m \u001b[0mKeyboardInterrupt\u001b[0m\u001b[0;34m(\u001b[0m\u001b[0;34m\"Interrupted by user\"\u001b[0m\u001b[0;34m)\u001b[0m \u001b[0;32mfrom\u001b[0m \u001b[0;32mNone\u001b[0m\u001b[0;34m\u001b[0m\u001b[0;34m\u001b[0m\u001b[0m\n\u001b[0m\u001b[1;32m    896\u001b[0m             \u001b[0;32mexcept\u001b[0m \u001b[0mException\u001b[0m \u001b[0;32mas\u001b[0m \u001b[0me\u001b[0m\u001b[0;34m:\u001b[0m\u001b[0;34m\u001b[0m\u001b[0;34m\u001b[0m\u001b[0m\n\u001b[1;32m    897\u001b[0m                 \u001b[0mself\u001b[0m\u001b[0;34m.\u001b[0m\u001b[0mlog\u001b[0m\u001b[0;34m.\u001b[0m\u001b[0mwarning\u001b[0m\u001b[0;34m(\u001b[0m\u001b[0;34m\"Invalid Message:\"\u001b[0m\u001b[0;34m,\u001b[0m \u001b[0mexc_info\u001b[0m\u001b[0;34m=\u001b[0m\u001b[0;32mTrue\u001b[0m\u001b[0;34m)\u001b[0m\u001b[0;34m\u001b[0m\u001b[0;34m\u001b[0m\u001b[0m\n",
            "\u001b[0;31mKeyboardInterrupt\u001b[0m: Interrupted by user"
          ]
        }
      ]
    },
    {
      "cell_type": "code",
      "source": [
        "import random \n",
        "import re \n",
        "import time\n",
        "\n",
        "def jogar():\n",
        "    print(\"\"\"\n",
        "    ***************************\n",
        "    * ESCRITÓRIO DE SÃO PEDRO *\n",
        "    ***************************\n",
        "\n",
        "    Morresse, viu?! Agora pra entrar no céu tu tem que saber a senha.\n",
        "    Como sei que tu num levou a melhor das vidas, vou te ajudar e te dar uma dica. \n",
        "    \n",
        "    O resto é por tua conta.\n",
        "    \"\"\")\n",
        "\n",
        "    lista_senhas_sao_pedro = ('Carro', 'tinha', 'medo', 'tal', 'Maria', 'Santo','Cristo','Era', 'todos', 'diziam', 'quando','perdeu','Deixou', 'distante', 'longe', 'todo', 'marasmo','fazenda', 'sentir', 'sangue', 'odio', 'Jesus', 'criança', 'pensava' ,'ser', 'bandido' , 'Ainda', 'mais','tiro', 'soldado', 'pai', 'morreu', 'terror' , 'sertania' , 'onde', 'morava', 'escola', 'professor', 'aprendeu', 'igreja', 'roubar', 'dinheiro','velhinhas', 'colocavam', 'caixinha', 'altar','diferente' , 'mar' , 'telefone', 'viajar', 'sozinho')\n",
        "    x = random.randint(0,50)\n",
        "    print(\"A sua dica pra entrar no céu é\",lista_senhas_sao_pedro[x]+'.')\n",
        "    time.sleep(1)\n",
        "    resultado = input(\"Qual a senha pra entrar no céu? \")\n",
        "\n",
        "    if resultado[0].lower() == lista_senhas_sao_pedro[x][0].lower():\n",
        "      print('Ámen, que os anjos te bendigam! Seja bem-vinde!')\n",
        "    elif resultado == lista_senhas_sao_pedro[x]:\n",
        "      print('Prole de Belial! Pode descer que o capiroto te espera!!')\n",
        "    else:\n",
        "      print(\"Vai queimar no mármore do inferno!\")\n",
        "\n",
        "    print(\"\\nQuer tentar novamente?\") \n",
        "\n",
        "    contador = 0\n",
        "    while contador < 3:\n",
        "        resultado2 = input('Y/N? ')\n",
        "        if resultado2.lower() == 'y':\n",
        "            jogar()\n",
        "        elif resultado2.lower() == 'n':\n",
        "            print('See you next lifetime!')\n",
        "            break\n",
        "        else:\n",
        "            print(\"Opção inválida. Digite 'Y' para jogar novamente ou 'N' para sair.\")\n",
        "        contador += 1\n",
        "\n",
        "\n"
      ],
      "metadata": {
        "id": "ytS2n_Io8jMZ"
      },
      "execution_count": 95,
      "outputs": []
    },
    {
      "cell_type": "code",
      "source": [
        "jogar()"
      ],
      "metadata": {
        "id": "5fPEhYfC9-Rt"
      },
      "execution_count": null,
      "outputs": []
    },
    {
      "cell_type": "code",
      "source": [
        "ajustar os nomes que sejam iguais para recusar"
      ],
      "metadata": {
        "id": "rsS2myOs0rth"
      },
      "execution_count": null,
      "outputs": []
    }
  ]
}