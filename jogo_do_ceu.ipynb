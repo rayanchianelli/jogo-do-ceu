{
  "nbformat": 4,
  "nbformat_minor": 0,
  "metadata": {
    "colab": {
      "provenance": [],
      "include_colab_link": true
    },
    "kernelspec": {
      "name": "python3",
      "display_name": "Python 3"
    },
    "language_info": {
      "name": "python"
    }
  },
  "cells": [
    {
      "cell_type": "markdown",
      "metadata": {
        "id": "view-in-github",
        "colab_type": "text"
      },
      "source": [
        "<a href=\"https://colab.research.google.com/github/rayannoyma/jogo-do-ceu/blob/main/jogo_do_ceu.ipynb\" target=\"_parent\"><img src=\"https://colab.research.google.com/assets/colab-badge.svg\" alt=\"Open In Colab\"/></a>"
      ]
    },
    {
      "cell_type": "markdown",
      "source": [
        "Porta do céu\n",
        "\n",
        "Ao chegar ao céu os usuarios recebem uma dica de São Pedro e precisam adivinhar a senha para entrar no paraíso.\n",
        "\n"
      ],
      "metadata": {
        "id": "9aavqlDVHHl1"
      }
    },
    {
      "cell_type": "code",
      "source": [
        "import random \n",
        "import re \n",
        "import time\n",
        "\n",
        "def jogar():\n",
        "    print(\"\"\"\n",
        "    ***************************\n",
        "    * ESCRITÓRIO DE SÃO PEDRO *\n",
        "    ***************************\n",
        "\n",
        "    Morresse, viu?! Agora pra entrar no céu tu tem que saber a senha.\n",
        "    Como sei que tu num levou a melhor das vidas, vou te ajudar e te dar uma dica. \n",
        "    \n",
        "    O resto é por tua conta.\n",
        "    \"\"\")\n",
        "\n",
        "    lista_senhas_sao_pedro = ('Carro', 'tinha', 'medo', 'tal', 'Maria', 'Santo','Cristo','Era', 'todos', 'diziam', 'quando','perdeu','Deixou', 'distante', 'longe', 'todo', 'marasmo','fazenda', 'sentir', 'sangue', 'odio', 'Jesus', 'criança', 'pensava' ,'ser', 'bandido' , 'Ainda', 'mais','tiro', 'soldado', 'pai', 'morreu', 'terror' , 'sertania' , 'onde', 'morava', 'escola', 'professor', 'aprendeu', 'igreja', 'roubar', 'dinheiro','velhinhas', 'colocavam', 'caixinha', 'altar','diferente' , 'mar' , 'telefone', 'viajar', 'sozinho')\n",
        "    x = random.randint(0,50)\n",
        "    print(\"A sua dica pra entrar no céu é\",lista_senhas_sao_pedro[x]+'.')\n",
        "    time.sleep(1)\n",
        "    resultado = input(\"Qual a senha pra entrar no céu? \")\n",
        "\n",
        "    if resultado == lista_senhas_sao_pedro[x]:\n",
        "      print('Prole de Belial! Pode descer que o capiroto te espera!!')\n",
        "    elif resultado[0].lower() == lista_senhas_sao_pedro[x][0].lower():\n",
        "      print('Ámen, que os anjos te bendigam! Seja bem-vinde!')\n",
        "    else:\n",
        "      print(\"Vai queimar no mármore do inferno!\")\n",
        "\n",
        "    contador = 0\n",
        "    while contador <1:   \n",
        "      if resultado[0].lower() == lista_senhas_sao_pedro[x][0].lower():\n",
        "       print()\n",
        "       break\n",
        "      else:\n",
        "        print(\"\\nQuer tentar novamente?\") \n",
        "        contador += 1\n",
        "\n",
        "    contador2 = 0\n",
        "    while contador2 < 3:\n",
        "        resultado2 = input('Y/N? ')\n",
        "        if resultado2.lower() == 'y':\n",
        "            jogar()\n",
        "        elif resultado2.lower() == 'n':\n",
        "            print('See you next lifetime!')\n",
        "            break\n",
        "        else:\n",
        "            print(\"Opção inválida. Digite 'Y' para jogar novamente ou 'N' para sair.\")\n",
        "        contador2 += 1\n"
      ],
      "metadata": {
        "id": "p0lOuSBC-pIT"
      },
      "execution_count": 23,
      "outputs": []
    },
    {
      "cell_type": "code",
      "source": [
        "jogar()"
      ],
      "metadata": {
        "colab": {
          "base_uri": "https://localhost:8080/"
        },
        "id": "W4gY-bykCd2r",
        "outputId": "1e7b81fd-eb49-4806-fb78-fe6d34204e09"
      },
      "execution_count": 25,
      "outputs": [
        {
          "output_type": "stream",
          "name": "stdout",
          "text": [
            "\n",
            "    ***************************\n",
            "    * ESCRITÓRIO DE SÃO PEDRO *\n",
            "    ***************************\n",
            "\n",
            "    Morresse, viu?! Agora pra entrar no céu tu tem que saber a senha.\n",
            "    Como sei que tu num levou a melhor das vidas, vou te ajudar e te dar uma dica. \n",
            "    \n",
            "    O resto é por tua conta.\n",
            "    \n",
            "A sua dica pra entrar no céu é longe.\n",
            "Qual a senha pra entrar no céu? loi\n",
            "Ámen, que os anjos te bendigam! Seja bem-vinde!\n",
            "\n",
            "Y/N? N\n",
            "See you next lifetime!\n"
          ]
        }
      ]
    }
  ]
}